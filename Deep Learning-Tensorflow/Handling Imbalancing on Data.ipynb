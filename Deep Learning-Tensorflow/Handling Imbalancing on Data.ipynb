{
 "cells": [
  {
   "cell_type": "markdown",
   "id": "7b250e78",
   "metadata": {},
   "source": [
    "<b>We can use 4 common way to handle with imbalancing data.<br>\n",
    "Handling with imbalanced data is really important for machine learning models."
   ]
  },
  {
   "cell_type": "markdown",
   "id": "4d4d575a",
   "metadata": {},
   "source": [
    "- UnderSampling\n",
    "- OverSampling (blind copy)\n",
    "- OverSampling (SMOTE)\n",
    "- Ensemble"
   ]
  },
  {
   "cell_type": "code",
   "execution_count": 2,
   "id": "c6ea5375",
   "metadata": {},
   "outputs": [],
   "source": [
    "import pandas as pd\n",
    "import tensorflow as tf\n",
    "from tensorflow import keras"
   ]
  },
  {
   "cell_type": "code",
   "execution_count": 47,
   "id": "53727448",
   "metadata": {},
   "outputs": [],
   "source": [
    "df = pd.read_csv('Datasets/customer_churn.csv')"
   ]
  },
  {
   "cell_type": "code",
   "execution_count": 6,
   "id": "9a8154a1",
   "metadata": {},
   "outputs": [
    {
     "data": {
      "text/plain": [
       "customerID           object\n",
       "gender               object\n",
       "SeniorCitizen         int64\n",
       "Partner              object\n",
       "Dependents           object\n",
       "tenure                int64\n",
       "PhoneService         object\n",
       "MultipleLines        object\n",
       "InternetService      object\n",
       "OnlineSecurity       object\n",
       "OnlineBackup         object\n",
       "DeviceProtection     object\n",
       "TechSupport          object\n",
       "StreamingTV          object\n",
       "StreamingMovies      object\n",
       "Contract             object\n",
       "PaperlessBilling     object\n",
       "PaymentMethod        object\n",
       "MonthlyCharges      float64\n",
       "TotalCharges         object\n",
       "Churn                object\n",
       "dtype: object"
      ]
     },
     "execution_count": 6,
     "metadata": {},
     "output_type": "execute_result"
    }
   ],
   "source": [
    "df.dtypes"
   ]
  },
  {
   "cell_type": "code",
   "execution_count": 15,
   "id": "4b40ec00",
   "metadata": {},
   "outputs": [
    {
     "data": {
      "text/html": [
       "<div>\n",
       "<style scoped>\n",
       "    .dataframe tbody tr th:only-of-type {\n",
       "        vertical-align: middle;\n",
       "    }\n",
       "\n",
       "    .dataframe tbody tr th {\n",
       "        vertical-align: top;\n",
       "    }\n",
       "\n",
       "    .dataframe thead th {\n",
       "        text-align: right;\n",
       "    }\n",
       "</style>\n",
       "<table border=\"1\" class=\"dataframe\">\n",
       "  <thead>\n",
       "    <tr style=\"text-align: right;\">\n",
       "      <th></th>\n",
       "      <th>customerID</th>\n",
       "      <th>gender</th>\n",
       "      <th>SeniorCitizen</th>\n",
       "      <th>Partner</th>\n",
       "      <th>Dependents</th>\n",
       "      <th>tenure</th>\n",
       "      <th>PhoneService</th>\n",
       "      <th>MultipleLines</th>\n",
       "      <th>InternetService</th>\n",
       "      <th>OnlineSecurity</th>\n",
       "      <th>...</th>\n",
       "      <th>DeviceProtection</th>\n",
       "      <th>TechSupport</th>\n",
       "      <th>StreamingTV</th>\n",
       "      <th>StreamingMovies</th>\n",
       "      <th>Contract</th>\n",
       "      <th>PaperlessBilling</th>\n",
       "      <th>PaymentMethod</th>\n",
       "      <th>MonthlyCharges</th>\n",
       "      <th>TotalCharges</th>\n",
       "      <th>Churn</th>\n",
       "    </tr>\n",
       "  </thead>\n",
       "  <tbody>\n",
       "    <tr>\n",
       "      <th>0</th>\n",
       "      <td>7590-VHVEG</td>\n",
       "      <td>Female</td>\n",
       "      <td>0</td>\n",
       "      <td>Yes</td>\n",
       "      <td>No</td>\n",
       "      <td>1</td>\n",
       "      <td>No</td>\n",
       "      <td>No phone service</td>\n",
       "      <td>DSL</td>\n",
       "      <td>No</td>\n",
       "      <td>...</td>\n",
       "      <td>No</td>\n",
       "      <td>No</td>\n",
       "      <td>No</td>\n",
       "      <td>No</td>\n",
       "      <td>Month-to-month</td>\n",
       "      <td>Yes</td>\n",
       "      <td>Electronic check</td>\n",
       "      <td>29.85</td>\n",
       "      <td>29.85</td>\n",
       "      <td>No</td>\n",
       "    </tr>\n",
       "    <tr>\n",
       "      <th>1</th>\n",
       "      <td>5575-GNVDE</td>\n",
       "      <td>Male</td>\n",
       "      <td>0</td>\n",
       "      <td>No</td>\n",
       "      <td>No</td>\n",
       "      <td>34</td>\n",
       "      <td>Yes</td>\n",
       "      <td>No</td>\n",
       "      <td>DSL</td>\n",
       "      <td>Yes</td>\n",
       "      <td>...</td>\n",
       "      <td>Yes</td>\n",
       "      <td>No</td>\n",
       "      <td>No</td>\n",
       "      <td>No</td>\n",
       "      <td>One year</td>\n",
       "      <td>No</td>\n",
       "      <td>Mailed check</td>\n",
       "      <td>56.95</td>\n",
       "      <td>1889.5</td>\n",
       "      <td>No</td>\n",
       "    </tr>\n",
       "    <tr>\n",
       "      <th>2</th>\n",
       "      <td>3668-QPYBK</td>\n",
       "      <td>Male</td>\n",
       "      <td>0</td>\n",
       "      <td>No</td>\n",
       "      <td>No</td>\n",
       "      <td>2</td>\n",
       "      <td>Yes</td>\n",
       "      <td>No</td>\n",
       "      <td>DSL</td>\n",
       "      <td>Yes</td>\n",
       "      <td>...</td>\n",
       "      <td>No</td>\n",
       "      <td>No</td>\n",
       "      <td>No</td>\n",
       "      <td>No</td>\n",
       "      <td>Month-to-month</td>\n",
       "      <td>Yes</td>\n",
       "      <td>Mailed check</td>\n",
       "      <td>53.85</td>\n",
       "      <td>108.15</td>\n",
       "      <td>Yes</td>\n",
       "    </tr>\n",
       "    <tr>\n",
       "      <th>3</th>\n",
       "      <td>7795-CFOCW</td>\n",
       "      <td>Male</td>\n",
       "      <td>0</td>\n",
       "      <td>No</td>\n",
       "      <td>No</td>\n",
       "      <td>45</td>\n",
       "      <td>No</td>\n",
       "      <td>No phone service</td>\n",
       "      <td>DSL</td>\n",
       "      <td>Yes</td>\n",
       "      <td>...</td>\n",
       "      <td>Yes</td>\n",
       "      <td>Yes</td>\n",
       "      <td>No</td>\n",
       "      <td>No</td>\n",
       "      <td>One year</td>\n",
       "      <td>No</td>\n",
       "      <td>Bank transfer (automatic)</td>\n",
       "      <td>42.30</td>\n",
       "      <td>1840.75</td>\n",
       "      <td>No</td>\n",
       "    </tr>\n",
       "    <tr>\n",
       "      <th>4</th>\n",
       "      <td>9237-HQITU</td>\n",
       "      <td>Female</td>\n",
       "      <td>0</td>\n",
       "      <td>No</td>\n",
       "      <td>No</td>\n",
       "      <td>2</td>\n",
       "      <td>Yes</td>\n",
       "      <td>No</td>\n",
       "      <td>Fiber optic</td>\n",
       "      <td>No</td>\n",
       "      <td>...</td>\n",
       "      <td>No</td>\n",
       "      <td>No</td>\n",
       "      <td>No</td>\n",
       "      <td>No</td>\n",
       "      <td>Month-to-month</td>\n",
       "      <td>Yes</td>\n",
       "      <td>Electronic check</td>\n",
       "      <td>70.70</td>\n",
       "      <td>151.65</td>\n",
       "      <td>Yes</td>\n",
       "    </tr>\n",
       "  </tbody>\n",
       "</table>\n",
       "<p>5 rows × 21 columns</p>\n",
       "</div>"
      ],
      "text/plain": [
       "   customerID  gender  SeniorCitizen Partner Dependents  tenure PhoneService  \\\n",
       "0  7590-VHVEG  Female              0     Yes         No       1           No   \n",
       "1  5575-GNVDE    Male              0      No         No      34          Yes   \n",
       "2  3668-QPYBK    Male              0      No         No       2          Yes   \n",
       "3  7795-CFOCW    Male              0      No         No      45           No   \n",
       "4  9237-HQITU  Female              0      No         No       2          Yes   \n",
       "\n",
       "      MultipleLines InternetService OnlineSecurity  ... DeviceProtection  \\\n",
       "0  No phone service             DSL             No  ...               No   \n",
       "1                No             DSL            Yes  ...              Yes   \n",
       "2                No             DSL            Yes  ...               No   \n",
       "3  No phone service             DSL            Yes  ...              Yes   \n",
       "4                No     Fiber optic             No  ...               No   \n",
       "\n",
       "  TechSupport StreamingTV StreamingMovies        Contract PaperlessBilling  \\\n",
       "0          No          No              No  Month-to-month              Yes   \n",
       "1          No          No              No        One year               No   \n",
       "2          No          No              No  Month-to-month              Yes   \n",
       "3         Yes          No              No        One year               No   \n",
       "4          No          No              No  Month-to-month              Yes   \n",
       "\n",
       "               PaymentMethod MonthlyCharges  TotalCharges Churn  \n",
       "0           Electronic check          29.85         29.85    No  \n",
       "1               Mailed check          56.95        1889.5    No  \n",
       "2               Mailed check          53.85        108.15   Yes  \n",
       "3  Bank transfer (automatic)          42.30       1840.75    No  \n",
       "4           Electronic check          70.70        151.65   Yes  \n",
       "\n",
       "[5 rows x 21 columns]"
      ]
     },
     "execution_count": 15,
     "metadata": {},
     "output_type": "execute_result"
    }
   ],
   "source": [
    "df.head()"
   ]
  },
  {
   "cell_type": "code",
   "execution_count": 16,
   "id": "db8e3357",
   "metadata": {},
   "outputs": [
    {
     "name": "stdout",
     "output_type": "stream",
     "text": [
      "customerID => ['7590-VHVEG' '5575-GNVDE' '3668-QPYBK' ... '4801-JZAZL' '8361-LTMKD'\n",
      " '3186-AJIEK']\n",
      "gender => ['Female' 'Male']\n",
      "Partner => ['Yes' 'No']\n",
      "Dependents => ['No' 'Yes']\n",
      "PhoneService => ['No' 'Yes']\n",
      "MultipleLines => ['No phone service' 'No' 'Yes']\n",
      "InternetService => ['DSL' 'Fiber optic' 'No']\n",
      "OnlineSecurity => ['No' 'Yes' 'No internet service']\n",
      "OnlineBackup => ['Yes' 'No' 'No internet service']\n",
      "DeviceProtection => ['No' 'Yes' 'No internet service']\n",
      "TechSupport => ['No' 'Yes' 'No internet service']\n",
      "StreamingTV => ['No' 'Yes' 'No internet service']\n",
      "StreamingMovies => ['No' 'Yes' 'No internet service']\n",
      "Contract => ['Month-to-month' 'One year' 'Two year']\n",
      "PaperlessBilling => ['Yes' 'No']\n",
      "PaymentMethod => ['Electronic check' 'Mailed check' 'Bank transfer (automatic)'\n",
      " 'Credit card (automatic)']\n",
      "TotalCharges => ['29.85' '1889.5' '108.15' ... '346.45' '306.6' '6844.5']\n",
      "Churn => ['No' 'Yes']\n"
     ]
    }
   ],
   "source": [
    "for i in list(df.select_dtypes(object)):\n",
    "    print(\"{} => {}\".format(i,df[i].unique()))"
   ]
  },
  {
   "cell_type": "code",
   "execution_count": 17,
   "id": "17f82be1",
   "metadata": {},
   "outputs": [],
   "source": [
    "labels1 = ['No','Yes','No internet service']\n",
    "labels2 = ['No','Yes']\n",
    "labels3 = ['No phone service', 'No', 'Yes']\n",
    "labels4 = ['No','DSL','Fiber optic']\n",
    "labels5 = ['Female','Male']"
   ]
  },
  {
   "cell_type": "code",
   "execution_count": 48,
   "id": "b578fd82",
   "metadata": {},
   "outputs": [],
   "source": [
    "for i in ['OnlineSecurity','OnlineBackup','DeviceProtection','TechSupport','StreamingTV','StreamingMovies']:\n",
    "    df[i] = df[i].apply(lambda x: labels1.index(x))"
   ]
  },
  {
   "cell_type": "code",
   "execution_count": 57,
   "id": "7ec57308",
   "metadata": {},
   "outputs": [
    {
     "data": {
      "text/plain": [
       "TotalCharges    object\n",
       "dtype: object"
      ]
     },
     "execution_count": 57,
     "metadata": {},
     "output_type": "execute_result"
    }
   ],
   "source": [
    "df.dtypes[df.dtypes==object]"
   ]
  },
  {
   "cell_type": "code",
   "execution_count": 50,
   "id": "6d1198c8",
   "metadata": {},
   "outputs": [],
   "source": [
    "df.drop('customerID',axis=1,inplace=True)"
   ]
  },
  {
   "cell_type": "code",
   "execution_count": 51,
   "id": "cf1d775a",
   "metadata": {},
   "outputs": [],
   "source": [
    "for i in ['Dependents','Partner','PhoneService','PaperlessBilling','Churn']:\n",
    "    df[i] = df[i].apply(lambda x: labels2.index(x))"
   ]
  },
  {
   "cell_type": "code",
   "execution_count": 52,
   "id": "0db57f33",
   "metadata": {},
   "outputs": [],
   "source": [
    "df.MultipleLines = df.MultipleLines.apply(lambda x: labels3.index(x))"
   ]
  },
  {
   "cell_type": "code",
   "execution_count": 53,
   "id": "6a5984bc",
   "metadata": {},
   "outputs": [],
   "source": [
    "df.InternetService = df.InternetService.apply(lambda x: labels4.index(x))"
   ]
  },
  {
   "cell_type": "code",
   "execution_count": 54,
   "id": "2eb34359",
   "metadata": {},
   "outputs": [],
   "source": [
    "df.gender = df.gender.apply(lambda x: labels5.index(x))"
   ]
  },
  {
   "cell_type": "code",
   "execution_count": 55,
   "id": "3dfa82eb",
   "metadata": {},
   "outputs": [],
   "source": [
    "df = pd.get_dummies(data = df,columns=['Contract','PaymentMethod'])"
   ]
  },
  {
   "cell_type": "code",
   "execution_count": 62,
   "id": "27b1fd3c",
   "metadata": {},
   "outputs": [],
   "source": [
    "aykirilar = df.TotalCharges.isin([\" \"])[df.TotalCharges.isin([\" \"])==True]"
   ]
  },
  {
   "cell_type": "code",
   "execution_count": 67,
   "id": "a3974742",
   "metadata": {},
   "outputs": [],
   "source": [
    "df.drop(aykirilar.index,inplace=True)"
   ]
  },
  {
   "cell_type": "code",
   "execution_count": 73,
   "id": "21e79b09",
   "metadata": {},
   "outputs": [],
   "source": [
    "df.TotalCharges=df.TotalCharges.astype(float)"
   ]
  },
  {
   "cell_type": "code",
   "execution_count": 75,
   "id": "c22bb4ab",
   "metadata": {},
   "outputs": [
    {
     "data": {
      "text/plain": [
       "gender                                       int64\n",
       "SeniorCitizen                                int64\n",
       "Partner                                      int64\n",
       "Dependents                                   int64\n",
       "tenure                                       int64\n",
       "PhoneService                                 int64\n",
       "MultipleLines                                int64\n",
       "InternetService                              int64\n",
       "OnlineSecurity                               int64\n",
       "OnlineBackup                                 int64\n",
       "DeviceProtection                             int64\n",
       "TechSupport                                  int64\n",
       "StreamingTV                                  int64\n",
       "StreamingMovies                              int64\n",
       "PaperlessBilling                             int64\n",
       "MonthlyCharges                             float64\n",
       "TotalCharges                               float64\n",
       "Churn                                        int64\n",
       "Contract_Month-to-month                      uint8\n",
       "Contract_One year                            uint8\n",
       "Contract_Two year                            uint8\n",
       "PaymentMethod_Bank transfer (automatic)      uint8\n",
       "PaymentMethod_Credit card (automatic)        uint8\n",
       "PaymentMethod_Electronic check               uint8\n",
       "PaymentMethod_Mailed check                   uint8\n",
       "dtype: object"
      ]
     },
     "execution_count": 75,
     "metadata": {},
     "output_type": "execute_result"
    }
   ],
   "source": [
    "df.dtypes"
   ]
  },
  {
   "cell_type": "markdown",
   "id": "e4032642",
   "metadata": {},
   "source": [
    "<b>Everything seems good lets see "
   ]
  },
  {
   "cell_type": "markdown",
   "id": "c3a1afa4",
   "metadata": {},
   "source": [
    "# Without Balancing"
   ]
  },
  {
   "cell_type": "code",
   "execution_count": 77,
   "id": "d60f4a0f",
   "metadata": {},
   "outputs": [],
   "source": [
    "X = df.drop('Churn',axis=1)\n",
    "y = df.Churn"
   ]
  },
  {
   "cell_type": "code",
   "execution_count": 78,
   "id": "3d3542df",
   "metadata": {},
   "outputs": [],
   "source": [
    "from sklearn.preprocessing import MinMaxScaler\n",
    "\n",
    "column_names = X.columns\n",
    "scaler = MinMaxScaler().fit(X)\n",
    "X = pd.DataFrame(scaler.transform(X),columns=column_names)"
   ]
  },
  {
   "cell_type": "code",
   "execution_count": 82,
   "id": "a02f6069",
   "metadata": {},
   "outputs": [],
   "source": [
    "from sklearn.model_selection import train_test_split\n",
    "\n",
    "x_train,x_test,y_train,y_test = train_test_split(X,y,test_size=0.3,random_state=42)"
   ]
  },
  {
   "cell_type": "code",
   "execution_count": 90,
   "id": "f15bb1b8",
   "metadata": {},
   "outputs": [
    {
     "data": {
      "text/plain": [
       "(7032, 24)"
      ]
     },
     "execution_count": 90,
     "metadata": {},
     "output_type": "execute_result"
    }
   ],
   "source": [
    "X.shape"
   ]
  },
  {
   "cell_type": "code",
   "execution_count": 133,
   "id": "107db2b3",
   "metadata": {},
   "outputs": [],
   "source": [
    "model = keras.Sequential([\n",
    "    keras.layers.Flatten(),\n",
    "    keras.layers.Dense(30,activation='relu'),\n",
    "    keras.layers.Dropout(0.1),\n",
    "    keras.layers.Dense(15,activation='relu'),\n",
    "    keras.layers.Dropout(0.1),\n",
    "    keras.layers.Dense(1,activation='sigmoid')\n",
    "])"
   ]
  },
  {
   "cell_type": "code",
   "execution_count": 134,
   "id": "69d87afd",
   "metadata": {},
   "outputs": [],
   "source": [
    "model.compile(optimizer='adam',metrics=['accuracy'],loss='binary_crossentropy')"
   ]
  },
  {
   "cell_type": "code",
   "execution_count": 135,
   "id": "f27f95cb",
   "metadata": {
    "scrolled": true
   },
   "outputs": [
    {
     "name": "stdout",
     "output_type": "stream",
     "text": [
      "Epoch 1/50\n",
      "154/154 [==============================] - 1s 1ms/step - loss: 0.5204 - accuracy: 0.7381\n",
      "Epoch 2/50\n",
      "154/154 [==============================] - 0s 1ms/step - loss: 0.4501 - accuracy: 0.7779\n",
      "Epoch 3/50\n",
      "154/154 [==============================] - 0s 1ms/step - loss: 0.4415 - accuracy: 0.7855\n",
      "Epoch 4/50\n",
      "154/154 [==============================] - 0s 1ms/step - loss: 0.4371 - accuracy: 0.7936\n",
      "Epoch 5/50\n",
      "154/154 [==============================] - 0s 1ms/step - loss: 0.4304 - accuracy: 0.7918\n",
      "Epoch 6/50\n",
      "154/154 [==============================] - 0s 1ms/step - loss: 0.4274 - accuracy: 0.7942\n",
      "Epoch 7/50\n",
      "154/154 [==============================] - 0s 1ms/step - loss: 0.4282 - accuracy: 0.7976\n",
      "Epoch 8/50\n",
      "154/154 [==============================] - 0s 1ms/step - loss: 0.4222 - accuracy: 0.7968\n",
      "Epoch 9/50\n",
      "154/154 [==============================] - 0s 1ms/step - loss: 0.4202 - accuracy: 0.8001\n",
      "Epoch 10/50\n",
      "154/154 [==============================] - 0s 1ms/step - loss: 0.4188 - accuracy: 0.7993\n",
      "Epoch 11/50\n",
      "154/154 [==============================] - 0s 1ms/step - loss: 0.4201 - accuracy: 0.8041\n",
      "Epoch 12/50\n",
      "154/154 [==============================] - 0s 1ms/step - loss: 0.4192 - accuracy: 0.8007\n",
      "Epoch 13/50\n",
      "154/154 [==============================] - 0s 1ms/step - loss: 0.4178 - accuracy: 0.8001\n",
      "Epoch 14/50\n",
      "154/154 [==============================] - 0s 1ms/step - loss: 0.4150 - accuracy: 0.8031\n",
      "Epoch 15/50\n",
      "154/154 [==============================] - 0s 1ms/step - loss: 0.4144 - accuracy: 0.8064\n",
      "Epoch 16/50\n",
      "154/154 [==============================] - 0s 1ms/step - loss: 0.4127 - accuracy: 0.8072\n",
      "Epoch 17/50\n",
      "154/154 [==============================] - 0s 1ms/step - loss: 0.4112 - accuracy: 0.8064\n",
      "Epoch 18/50\n",
      "154/154 [==============================] - 0s 1ms/step - loss: 0.4129 - accuracy: 0.8054\n",
      "Epoch 19/50\n",
      "154/154 [==============================] - 0s 1ms/step - loss: 0.4095 - accuracy: 0.8043\n",
      "Epoch 20/50\n",
      "154/154 [==============================] - 0s 1ms/step - loss: 0.4087 - accuracy: 0.8052\n",
      "Epoch 21/50\n",
      "154/154 [==============================] - 0s 1ms/step - loss: 0.4093 - accuracy: 0.8054\n",
      "Epoch 22/50\n",
      "154/154 [==============================] - 0s 1ms/step - loss: 0.4076 - accuracy: 0.8068\n",
      "Epoch 23/50\n",
      "154/154 [==============================] - 0s 1ms/step - loss: 0.4042 - accuracy: 0.8084\n",
      "Epoch 24/50\n",
      "154/154 [==============================] - 0s 1ms/step - loss: 0.4061 - accuracy: 0.8076\n",
      "Epoch 25/50\n",
      "154/154 [==============================] - 0s 1ms/step - loss: 0.4045 - accuracy: 0.8076\n",
      "Epoch 26/50\n",
      "154/154 [==============================] - 0s 1ms/step - loss: 0.4082 - accuracy: 0.8092\n",
      "Epoch 27/50\n",
      "154/154 [==============================] - 0s 1ms/step - loss: 0.4056 - accuracy: 0.8090\n",
      "Epoch 28/50\n",
      "154/154 [==============================] - 0s 1ms/step - loss: 0.4036 - accuracy: 0.8121\n",
      "Epoch 29/50\n",
      "154/154 [==============================] - 0s 1ms/step - loss: 0.4041 - accuracy: 0.8078\n",
      "Epoch 30/50\n",
      "154/154 [==============================] - 0s 1ms/step - loss: 0.4055 - accuracy: 0.8098\n",
      "Epoch 31/50\n",
      "154/154 [==============================] - 0s 1ms/step - loss: 0.4014 - accuracy: 0.8123\n",
      "Epoch 32/50\n",
      "154/154 [==============================] - 0s 1ms/step - loss: 0.4000 - accuracy: 0.8102\n",
      "Epoch 33/50\n",
      "154/154 [==============================] - 0s 1ms/step - loss: 0.4051 - accuracy: 0.8092\n",
      "Epoch 34/50\n",
      "154/154 [==============================] - 0s 1ms/step - loss: 0.4022 - accuracy: 0.8115\n",
      "Epoch 35/50\n",
      "154/154 [==============================] - 0s 1ms/step - loss: 0.4009 - accuracy: 0.8054\n",
      "Epoch 36/50\n",
      "154/154 [==============================] - 0s 1ms/step - loss: 0.3977 - accuracy: 0.8169\n",
      "Epoch 37/50\n",
      "154/154 [==============================] - 0s 1ms/step - loss: 0.3982 - accuracy: 0.8141\n",
      "Epoch 38/50\n",
      "154/154 [==============================] - 0s 1ms/step - loss: 0.3987 - accuracy: 0.8169\n",
      "Epoch 39/50\n",
      "154/154 [==============================] - 0s 1ms/step - loss: 0.3964 - accuracy: 0.8151\n",
      "Epoch 40/50\n",
      "154/154 [==============================] - 0s 1ms/step - loss: 0.3985 - accuracy: 0.8133\n",
      "Epoch 41/50\n",
      "154/154 [==============================] - 0s 1ms/step - loss: 0.3975 - accuracy: 0.8117\n",
      "Epoch 42/50\n",
      "154/154 [==============================] - 0s 1ms/step - loss: 0.3944 - accuracy: 0.8143\n",
      "Epoch 43/50\n",
      "154/154 [==============================] - 0s 1ms/step - loss: 0.3959 - accuracy: 0.8139\n",
      "Epoch 44/50\n",
      "154/154 [==============================] - 0s 1ms/step - loss: 0.3950 - accuracy: 0.8098\n",
      "Epoch 45/50\n",
      "154/154 [==============================] - 0s 1ms/step - loss: 0.3948 - accuracy: 0.8129\n",
      "Epoch 46/50\n",
      "154/154 [==============================] - 0s 1ms/step - loss: 0.3951 - accuracy: 0.8151\n",
      "Epoch 47/50\n",
      "154/154 [==============================] - 0s 1ms/step - loss: 0.3934 - accuracy: 0.8165\n",
      "Epoch 48/50\n",
      "154/154 [==============================] - 0s 1ms/step - loss: 0.3927 - accuracy: 0.8151\n",
      "Epoch 49/50\n",
      "154/154 [==============================] - 0s 1ms/step - loss: 0.3939 - accuracy: 0.8149\n",
      "Epoch 50/50\n",
      "154/154 [==============================] - 0s 1ms/step - loss: 0.3928 - accuracy: 0.8147\n"
     ]
    },
    {
     "data": {
      "text/plain": [
       "<keras.callbacks.History at 0x1426669b0>"
      ]
     },
     "execution_count": 135,
     "metadata": {},
     "output_type": "execute_result"
    }
   ],
   "source": [
    "model.fit(x_train,y_train,epochs=50)"
   ]
  },
  {
   "cell_type": "code",
   "execution_count": 136,
   "id": "f9ca7803",
   "metadata": {
    "scrolled": true
   },
   "outputs": [
    {
     "name": "stdout",
     "output_type": "stream",
     "text": [
      "66/66 [==============================] - 0s 1ms/step - loss: 0.4391 - accuracy: 0.7782\n"
     ]
    },
    {
     "data": {
      "text/plain": [
       "[0.4391484558582306, 0.7781990766525269]"
      ]
     },
     "execution_count": 136,
     "metadata": {},
     "output_type": "execute_result"
    }
   ],
   "source": [
    "model.evaluate(x_test,y_test)"
   ]
  },
  {
   "cell_type": "code",
   "execution_count": 138,
   "id": "446a0da8",
   "metadata": {},
   "outputs": [
    {
     "name": "stdout",
     "output_type": "stream",
     "text": [
      "66/66 [==============================] - 0s 836us/step\n"
     ]
    }
   ],
   "source": [
    "prediction = model.predict(x_test)\n",
    "prediction_step = list()\n",
    "for i in prediction:\n",
    "    prediction_step.append(round(i[0]))"
   ]
  },
  {
   "cell_type": "code",
   "execution_count": 141,
   "id": "8ca3903f",
   "metadata": {},
   "outputs": [
    {
     "name": "stdout",
     "output_type": "stream",
     "text": [
      "              precision    recall  f1-score   support\n",
      "\n",
      "           0       0.86      0.84      0.85      1597\n",
      "           1       0.54      0.59      0.56       513\n",
      "\n",
      "    accuracy                           0.78      2110\n",
      "   macro avg       0.70      0.71      0.71      2110\n",
      "weighted avg       0.79      0.78      0.78      2110\n",
      "\n"
     ]
    }
   ],
   "source": [
    "print(classification_report(prediction_step,y_test))"
   ]
  },
  {
   "cell_type": "markdown",
   "id": "bb42f8a6",
   "metadata": {},
   "source": [
    "<h1 style=\"color:red\"> With Balancing"
   ]
  },
  {
   "cell_type": "code",
   "execution_count": 142,
   "id": "bcacd11c",
   "metadata": {},
   "outputs": [
    {
     "data": {
      "text/plain": [
       "0    5163\n",
       "1    1869\n",
       "Name: Churn, dtype: int64"
      ]
     },
     "execution_count": 142,
     "metadata": {},
     "output_type": "execute_result"
    }
   ],
   "source": [
    "df.Churn.value_counts()"
   ]
  },
  {
   "cell_type": "markdown",
   "id": "276fd9dc",
   "metadata": {},
   "source": [
    "<h2 style=\"color:purple\"> Under sampling"
   ]
  },
  {
   "cell_type": "code",
   "execution_count": 143,
   "id": "10555ed0",
   "metadata": {},
   "outputs": [],
   "source": [
    "churn_0s = df[df.Churn==0]\n",
    "churn_1s = df[df.Churn==1]"
   ]
  },
  {
   "cell_type": "code",
   "execution_count": 147,
   "id": "8cc247cc",
   "metadata": {},
   "outputs": [],
   "source": [
    "under_sampling_churn0s = churn_0s.sample(1869)"
   ]
  },
  {
   "cell_type": "code",
   "execution_count": 154,
   "id": "df435ef7",
   "metadata": {},
   "outputs": [
    {
     "name": "stdout",
     "output_type": "stream",
     "text": [
      "1869\n",
      "1869\n"
     ]
    }
   ],
   "source": [
    "print(under_sampling_churn0s.count()['gender'])\n",
    "print(churn_1s.count()['gender'])"
   ]
  },
  {
   "cell_type": "markdown",
   "id": "056054e3",
   "metadata": {},
   "source": [
    "<b style=\"color:blue\">\n",
    "Now we have the same value count of 1 and 0 but we ignored and removed so many data and all data might be very important , so this technich might be cause big information lose"
   ]
  },
  {
   "cell_type": "markdown",
   "id": "43ac8813",
   "metadata": {},
   "source": [
    "<h2 style=\"color:purple\"> Oversampling (blind copy)"
   ]
  },
  {
   "cell_type": "code",
   "execution_count": 156,
   "id": "0d95800e",
   "metadata": {},
   "outputs": [],
   "source": [
    "churn_0s = df[df.Churn==0]\n",
    "churn_1s = df[df.Churn==1]"
   ]
  },
  {
   "cell_type": "code",
   "execution_count": 158,
   "id": "00928e1c",
   "metadata": {},
   "outputs": [
    {
     "data": {
      "text/plain": [
       "5163"
      ]
     },
     "execution_count": 158,
     "metadata": {},
     "output_type": "execute_result"
    }
   ],
   "source": [
    "churn_0s.count().gender"
   ]
  },
  {
   "cell_type": "code",
   "execution_count": 160,
   "id": "88017fc6",
   "metadata": {},
   "outputs": [],
   "source": [
    "churn_1s = churn_1s.sample(5163,replace=True)"
   ]
  },
  {
   "cell_type": "code",
   "execution_count": 163,
   "id": "82413ef3",
   "metadata": {},
   "outputs": [
    {
     "name": "stdout",
     "output_type": "stream",
     "text": [
      "5163\n",
      "5163\n"
     ]
    }
   ],
   "source": [
    "print(churn_0s.count()['gender'])\n",
    "print(churn_1s.count()['gender'])"
   ]
  },
  {
   "cell_type": "markdown",
   "id": "1f34d1ef",
   "metadata": {},
   "source": [
    "<b style=\"color:blue\">Now we have the same value count of 1 and 0 but we copied the same samples this can be better then under sampling but not very efficient"
   ]
  },
  {
   "cell_type": "markdown",
   "id": "18f78fff",
   "metadata": {},
   "source": [
    "<h2 style=\"color:purple\"> Oversampling (SMOTE)"
   ]
  },
  {
   "cell_type": "code",
   "execution_count": 166,
   "id": "91c2c778",
   "metadata": {},
   "outputs": [],
   "source": [
    "from imblearn.over_sampling import SMOTE\n",
    "\n",
    "smote = SMOTE(sampling_strategy='auto',random_state=42)\n",
    "x_sm,y_sm = smote.fit_resample(X,y)"
   ]
  },
  {
   "cell_type": "code",
   "execution_count": 167,
   "id": "dd11ce9f",
   "metadata": {},
   "outputs": [
    {
     "data": {
      "text/plain": [
       "0    5163\n",
       "1    5163\n",
       "Name: Churn, dtype: int64"
      ]
     },
     "execution_count": 167,
     "metadata": {},
     "output_type": "execute_result"
    }
   ],
   "source": [
    "y_sm.value_counts()"
   ]
  },
  {
   "cell_type": "markdown",
   "id": "802c6097",
   "metadata": {},
   "source": [
    "<b style=\"color:blue\">Now we have again same count of different values. And with Knn value we produced synonim samples. This is generally the most efficient way to avoid imbalancing in datasets."
   ]
  },
  {
   "cell_type": "markdown",
   "id": "379321b4",
   "metadata": {},
   "source": [
    "### Creating model again with balansed dataset"
   ]
  },
  {
   "cell_type": "code",
   "execution_count": 169,
   "id": "c21fef4a",
   "metadata": {},
   "outputs": [],
   "source": [
    "from sklearn.model_selection import train_test_split\n",
    "\n",
    "x_train,x_test,y_train,y_test = train_test_split(x_sm,y_sm,test_size=0.3,random_state=42)"
   ]
  },
  {
   "cell_type": "code",
   "execution_count": 170,
   "id": "da969b18",
   "metadata": {},
   "outputs": [
    {
     "data": {
      "text/plain": [
       "(7228, 24)"
      ]
     },
     "execution_count": 170,
     "metadata": {},
     "output_type": "execute_result"
    }
   ],
   "source": [
    "x_train.shape"
   ]
  },
  {
   "cell_type": "code",
   "execution_count": 171,
   "id": "c01c9194",
   "metadata": {},
   "outputs": [],
   "source": [
    "model = keras.Sequential([\n",
    "    keras.layers.Flatten(),\n",
    "    keras.layers.Dense(30,activation='relu'),\n",
    "    keras.layers.Dropout(0.1),\n",
    "    keras.layers.Dense(15,activation='relu'),\n",
    "    keras.layers.Dropout(0.1),\n",
    "    keras.layers.Dense(1,activation='sigmoid')\n",
    "])"
   ]
  },
  {
   "cell_type": "code",
   "execution_count": 172,
   "id": "93e2fafb",
   "metadata": {},
   "outputs": [],
   "source": [
    "model.compile(optimizer='adam',metrics=['accuracy'],loss='binary_crossentropy')"
   ]
  },
  {
   "cell_type": "code",
   "execution_count": 173,
   "id": "0fd83d16",
   "metadata": {
    "scrolled": true
   },
   "outputs": [
    {
     "name": "stdout",
     "output_type": "stream",
     "text": [
      "Epoch 1/50\n",
      "226/226 [==============================] - 1s 1ms/step - loss: 0.5578 - accuracy: 0.7201\n",
      "Epoch 2/50\n",
      "226/226 [==============================] - 0s 1ms/step - loss: 0.5041 - accuracy: 0.7561\n",
      "Epoch 3/50\n",
      "226/226 [==============================] - 0s 1ms/step - loss: 0.4887 - accuracy: 0.7591\n",
      "Epoch 4/50\n",
      "226/226 [==============================] - 0s 1ms/step - loss: 0.4850 - accuracy: 0.7637\n",
      "Epoch 5/50\n",
      "226/226 [==============================] - 0s 1ms/step - loss: 0.4801 - accuracy: 0.7662\n",
      "Epoch 6/50\n",
      "226/226 [==============================] - 0s 1ms/step - loss: 0.4749 - accuracy: 0.7674\n",
      "Epoch 7/50\n",
      "226/226 [==============================] - 0s 1ms/step - loss: 0.4700 - accuracy: 0.7684\n",
      "Epoch 8/50\n",
      "226/226 [==============================] - 0s 1ms/step - loss: 0.4660 - accuracy: 0.7741\n",
      "Epoch 9/50\n",
      "226/226 [==============================] - 0s 1ms/step - loss: 0.4651 - accuracy: 0.7731\n",
      "Epoch 10/50\n",
      "226/226 [==============================] - 0s 2ms/step - loss: 0.4619 - accuracy: 0.7775\n",
      "Epoch 11/50\n",
      "226/226 [==============================] - 0s 1ms/step - loss: 0.4554 - accuracy: 0.7815\n",
      "Epoch 12/50\n",
      "226/226 [==============================] - 0s 1ms/step - loss: 0.4548 - accuracy: 0.7800\n",
      "Epoch 13/50\n",
      "226/226 [==============================] - 0s 1ms/step - loss: 0.4563 - accuracy: 0.7775\n",
      "Epoch 14/50\n",
      "226/226 [==============================] - 0s 1ms/step - loss: 0.4529 - accuracy: 0.7793\n",
      "Epoch 15/50\n",
      "226/226 [==============================] - 0s 1ms/step - loss: 0.4520 - accuracy: 0.7820\n",
      "Epoch 16/50\n",
      "226/226 [==============================] - 0s 1ms/step - loss: 0.4498 - accuracy: 0.7792\n",
      "Epoch 17/50\n",
      "226/226 [==============================] - 0s 1ms/step - loss: 0.4503 - accuracy: 0.7817\n",
      "Epoch 18/50\n",
      "226/226 [==============================] - 0s 1ms/step - loss: 0.4478 - accuracy: 0.7836\n",
      "Epoch 19/50\n",
      "226/226 [==============================] - 0s 1ms/step - loss: 0.4432 - accuracy: 0.7857\n",
      "Epoch 20/50\n",
      "226/226 [==============================] - 0s 1ms/step - loss: 0.4431 - accuracy: 0.7915\n",
      "Epoch 21/50\n",
      "226/226 [==============================] - 0s 1ms/step - loss: 0.4456 - accuracy: 0.7875\n",
      "Epoch 22/50\n",
      "226/226 [==============================] - 0s 1ms/step - loss: 0.4441 - accuracy: 0.7880\n",
      "Epoch 23/50\n",
      "226/226 [==============================] - 0s 1ms/step - loss: 0.4414 - accuracy: 0.7885\n",
      "Epoch 24/50\n",
      "226/226 [==============================] - 0s 1ms/step - loss: 0.4428 - accuracy: 0.7882\n",
      "Epoch 25/50\n",
      "226/226 [==============================] - 0s 1ms/step - loss: 0.4400 - accuracy: 0.7922\n",
      "Epoch 26/50\n",
      "226/226 [==============================] - 0s 1ms/step - loss: 0.4418 - accuracy: 0.7867\n",
      "Epoch 27/50\n",
      "226/226 [==============================] - 0s 1ms/step - loss: 0.4386 - accuracy: 0.7915\n",
      "Epoch 28/50\n",
      "226/226 [==============================] - 0s 2ms/step - loss: 0.4372 - accuracy: 0.7930\n",
      "Epoch 29/50\n",
      "226/226 [==============================] - 0s 1ms/step - loss: 0.4371 - accuracy: 0.7928\n",
      "Epoch 30/50\n",
      "226/226 [==============================] - 0s 1ms/step - loss: 0.4349 - accuracy: 0.7936\n",
      "Epoch 31/50\n",
      "226/226 [==============================] - 0s 1ms/step - loss: 0.4328 - accuracy: 0.7901\n",
      "Epoch 32/50\n",
      "226/226 [==============================] - 0s 1ms/step - loss: 0.4312 - accuracy: 0.7945\n",
      "Epoch 33/50\n",
      "226/226 [==============================] - 0s 1ms/step - loss: 0.4293 - accuracy: 0.7945\n",
      "Epoch 34/50\n",
      "226/226 [==============================] - 0s 1ms/step - loss: 0.4310 - accuracy: 0.7945\n",
      "Epoch 35/50\n",
      "226/226 [==============================] - 0s 2ms/step - loss: 0.4325 - accuracy: 0.7943\n",
      "Epoch 36/50\n",
      "226/226 [==============================] - 0s 2ms/step - loss: 0.4311 - accuracy: 0.7945\n",
      "Epoch 37/50\n",
      "226/226 [==============================] - 0s 1ms/step - loss: 0.4299 - accuracy: 0.7990\n",
      "Epoch 38/50\n",
      "226/226 [==============================] - 0s 2ms/step - loss: 0.4300 - accuracy: 0.7995\n",
      "Epoch 39/50\n",
      "226/226 [==============================] - 0s 2ms/step - loss: 0.4257 - accuracy: 0.8005\n",
      "Epoch 40/50\n",
      "226/226 [==============================] - 0s 2ms/step - loss: 0.4243 - accuracy: 0.8024\n",
      "Epoch 41/50\n",
      "226/226 [==============================] - 0s 2ms/step - loss: 0.4243 - accuracy: 0.8011\n",
      "Epoch 42/50\n",
      "226/226 [==============================] - 0s 2ms/step - loss: 0.4261 - accuracy: 0.7993\n",
      "Epoch 43/50\n",
      "226/226 [==============================] - 0s 2ms/step - loss: 0.4248 - accuracy: 0.8042\n",
      "Epoch 44/50\n",
      "226/226 [==============================] - 0s 2ms/step - loss: 0.4231 - accuracy: 0.8013\n",
      "Epoch 45/50\n",
      "226/226 [==============================] - 0s 2ms/step - loss: 0.4224 - accuracy: 0.7999\n",
      "Epoch 46/50\n",
      "226/226 [==============================] - 0s 2ms/step - loss: 0.4223 - accuracy: 0.8016\n",
      "Epoch 47/50\n",
      "226/226 [==============================] - 0s 2ms/step - loss: 0.4212 - accuracy: 0.8009\n",
      "Epoch 48/50\n",
      "226/226 [==============================] - 0s 1ms/step - loss: 0.4226 - accuracy: 0.7999\n",
      "Epoch 49/50\n",
      "226/226 [==============================] - 0s 1ms/step - loss: 0.4164 - accuracy: 0.8034\n",
      "Epoch 50/50\n",
      "226/226 [==============================] - 0s 1ms/step - loss: 0.4166 - accuracy: 0.8071\n"
     ]
    },
    {
     "data": {
      "text/plain": [
       "<keras.callbacks.History at 0x145fbfee0>"
      ]
     },
     "execution_count": 173,
     "metadata": {},
     "output_type": "execute_result"
    }
   ],
   "source": [
    "model.fit(x_train,y_train,epochs=50)"
   ]
  },
  {
   "cell_type": "code",
   "execution_count": 174,
   "id": "0ddd3083",
   "metadata": {},
   "outputs": [
    {
     "name": "stdout",
     "output_type": "stream",
     "text": [
      "97/97 [==============================] - 0s 1ms/step - loss: 0.4534 - accuracy: 0.7811\n"
     ]
    },
    {
     "data": {
      "text/plain": [
       "[0.45336511731147766, 0.78114914894104]"
      ]
     },
     "execution_count": 174,
     "metadata": {},
     "output_type": "execute_result"
    }
   ],
   "source": [
    "model.evaluate(x_test,y_test)"
   ]
  },
  {
   "cell_type": "code",
   "execution_count": 175,
   "id": "1c96d49e",
   "metadata": {},
   "outputs": [
    {
     "name": "stdout",
     "output_type": "stream",
     "text": [
      "97/97 [==============================] - 0s 872us/step\n"
     ]
    }
   ],
   "source": [
    "prediction = model.predict(x_test)\n",
    "prediction_step = list()\n",
    "for i in prediction:\n",
    "    prediction_step.append(round(i[0]))"
   ]
  },
  {
   "cell_type": "code",
   "execution_count": 176,
   "id": "988cce89",
   "metadata": {},
   "outputs": [
    {
     "name": "stdout",
     "output_type": "stream",
     "text": [
      "              precision    recall  f1-score   support\n",
      "\n",
      "           0       0.73      0.82      0.77      1397\n",
      "           1       0.83      0.75      0.79      1701\n",
      "\n",
      "    accuracy                           0.78      3098\n",
      "   macro avg       0.78      0.78      0.78      3098\n",
      "weighted avg       0.79      0.78      0.78      3098\n",
      "\n"
     ]
    }
   ],
   "source": [
    "print(classification_report(prediction_step,y_test))"
   ]
  },
  {
   "cell_type": "markdown",
   "id": "1517776f",
   "metadata": {},
   "source": [
    "# Now we have definitely better classification report than imbalanced"
   ]
  }
 ],
 "metadata": {
  "kernelspec": {
   "display_name": "Python 3 (ipykernel)",
   "language": "python",
   "name": "python3"
  },
  "language_info": {
   "codemirror_mode": {
    "name": "ipython",
    "version": 3
   },
   "file_extension": ".py",
   "mimetype": "text/x-python",
   "name": "python",
   "nbconvert_exporter": "python",
   "pygments_lexer": "ipython3",
   "version": "3.10.10"
  }
 },
 "nbformat": 4,
 "nbformat_minor": 5
}
