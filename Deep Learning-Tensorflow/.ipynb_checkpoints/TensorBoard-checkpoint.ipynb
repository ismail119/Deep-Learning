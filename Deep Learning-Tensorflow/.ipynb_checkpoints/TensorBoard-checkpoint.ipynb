{
 "cells": [
  {
   "cell_type": "code",
   "execution_count": 1,
   "id": "24b86151",
   "metadata": {},
   "outputs": [],
   "source": [
    "import pandas as pd\n",
    "import tensorflow as tf\n",
    "from tensorflow import keras"
   ]
  },
  {
   "cell_type": "code",
   "execution_count": 2,
   "id": "66eeb6fc",
   "metadata": {},
   "outputs": [],
   "source": [
    "df = pd.read_csv('Datasets/insurance_data.csv')"
   ]
  },
  {
   "cell_type": "code",
   "execution_count": 12,
   "id": "2d83334a",
   "metadata": {},
   "outputs": [],
   "source": [
    "X = df.drop('bought_insurance',axis=1)\n",
    "y = df.bought_insurance"
   ]
  },
  {
   "cell_type": "code",
   "execution_count": 13,
   "id": "28dcfcac",
   "metadata": {},
   "outputs": [],
   "source": [
    "from sklearn.preprocessing import MinMaxScaler\n",
    "\n",
    "column_names = X.columns\n",
    "scaler = MinMaxScaler().fit(X)\n",
    "X = pd.DataFrame(scaler.transform(X),columns=column_names)"
   ]
  },
  {
   "cell_type": "code",
   "execution_count": 14,
   "id": "b90cd5d4",
   "metadata": {},
   "outputs": [],
   "source": [
    "from sklearn.model_selection import train_test_split\n",
    "\n",
    "x_train,x_test,y_train,y_test = train_test_split(X,y,test_size=0.2,random_state=5)"
   ]
  },
  {
   "cell_type": "code",
   "execution_count": 30,
   "id": "4d541236",
   "metadata": {},
   "outputs": [],
   "source": [
    "model = tf.keras.Sequential([\n",
    "    tf.keras.layers.Dense(5,input_shape=(2,),activation='relu'),\n",
    "    tf.keras.layers.Dense(1,activation='sigmoid')\n",
    "])"
   ]
  },
  {
   "cell_type": "code",
   "execution_count": 31,
   "id": "4077d156",
   "metadata": {},
   "outputs": [],
   "source": [
    "#Setting Tensorboard \n",
    "tb_callback = tf.keras.callbacks.TensorBoard(log_dir='logs/adam',histogram_freq=1)"
   ]
  },
  {
   "cell_type": "code",
   "execution_count": 32,
   "id": "f93d52a7",
   "metadata": {},
   "outputs": [],
   "source": [
    "model.compile(optimizer='adam',metrics=['accuracy'],loss='binary_crossentropy')"
   ]
  },
  {
   "cell_type": "code",
   "execution_count": 34,
   "id": "e08e25c7",
   "metadata": {},
   "outputs": [
    {
     "name": "stdout",
     "output_type": "stream",
     "text": [
      "Epoch 1/10\n",
      "1/1 [==============================] - 0s 34ms/step - loss: 0.6437 - accuracy: 0.5909\n",
      "Epoch 2/10\n",
      "1/1 [==============================] - 0s 27ms/step - loss: 0.6432 - accuracy: 0.5909\n",
      "Epoch 3/10\n",
      "1/1 [==============================] - 0s 27ms/step - loss: 0.6427 - accuracy: 0.5909\n",
      "Epoch 4/10\n",
      "1/1 [==============================] - 0s 30ms/step - loss: 0.6422 - accuracy: 0.5909\n",
      "Epoch 5/10\n",
      "1/1 [==============================] - 0s 34ms/step - loss: 0.6417 - accuracy: 0.5909\n",
      "Epoch 6/10\n",
      "1/1 [==============================] - 0s 30ms/step - loss: 0.6412 - accuracy: 0.5909\n",
      "Epoch 7/10\n",
      "1/1 [==============================] - 0s 30ms/step - loss: 0.6407 - accuracy: 0.5909\n",
      "Epoch 8/10\n",
      "1/1 [==============================] - 0s 31ms/step - loss: 0.6402 - accuracy: 0.5909\n",
      "Epoch 9/10\n",
      "1/1 [==============================] - 0s 33ms/step - loss: 0.6397 - accuracy: 0.5909\n",
      "Epoch 10/10\n",
      "1/1 [==============================] - 0s 31ms/step - loss: 0.6392 - accuracy: 0.5909\n"
     ]
    },
    {
     "data": {
      "text/plain": [
       "<keras.callbacks.History at 0x163c8f310>"
      ]
     },
     "execution_count": 34,
     "metadata": {},
     "output_type": "execute_result"
    }
   ],
   "source": [
    "model.fit(x_train,y_train,epochs=10,callbacks=[tb_callback])"
   ]
  },
  {
   "cell_type": "code",
   "execution_count": 36,
   "id": "1cd2165a",
   "metadata": {},
   "outputs": [],
   "source": [
    "model.compile(optimizer='SGD',metrics=['accuracy'],loss='binary_crossentropy')"
   ]
  },
  {
   "cell_type": "code",
   "execution_count": 37,
   "id": "3937052e",
   "metadata": {},
   "outputs": [],
   "source": [
    "tb_callback = tf.keras.callbacks.TensorBoard(log_dir='logs/sgd',histogram_freq=1)"
   ]
  },
  {
   "cell_type": "code",
   "execution_count": 38,
   "id": "324fd5fb",
   "metadata": {},
   "outputs": [
    {
     "name": "stdout",
     "output_type": "stream",
     "text": [
      "Epoch 1/10\n",
      "1/1 [==============================] - 0s 392ms/step - loss: 0.6386 - accuracy: 0.5909\n",
      "Epoch 2/10\n",
      "1/1 [==============================] - 0s 31ms/step - loss: 0.6383 - accuracy: 0.5909\n",
      "Epoch 3/10\n",
      "1/1 [==============================] - 0s 28ms/step - loss: 0.6380 - accuracy: 0.5909\n",
      "Epoch 4/10\n",
      "1/1 [==============================] - 0s 30ms/step - loss: 0.6376 - accuracy: 0.5909\n",
      "Epoch 5/10\n",
      "1/1 [==============================] - 0s 29ms/step - loss: 0.6373 - accuracy: 0.5909\n",
      "Epoch 6/10\n",
      "1/1 [==============================] - 0s 27ms/step - loss: 0.6369 - accuracy: 0.5909\n",
      "Epoch 7/10\n",
      "1/1 [==============================] - 0s 29ms/step - loss: 0.6366 - accuracy: 0.5909\n",
      "Epoch 8/10\n",
      "1/1 [==============================] - 0s 29ms/step - loss: 0.6363 - accuracy: 0.5909\n",
      "Epoch 9/10\n",
      "1/1 [==============================] - 0s 31ms/step - loss: 0.6359 - accuracy: 0.5909\n",
      "Epoch 10/10\n",
      "1/1 [==============================] - 0s 32ms/step - loss: 0.6356 - accuracy: 0.5909\n"
     ]
    },
    {
     "data": {
      "text/plain": [
       "<keras.callbacks.History at 0x163ca79d0>"
      ]
     },
     "execution_count": 38,
     "metadata": {},
     "output_type": "execute_result"
    }
   ],
   "source": [
    "model.fit(x_train,y_train,epochs=10,callbacks=[tb_callback])"
   ]
  },
  {
   "cell_type": "code",
   "execution_count": 2,
   "id": "c19b6272",
   "metadata": {},
   "outputs": [],
   "source": [
    "## tensorboard --logdir logs => localhost:6060"
   ]
  }
 ],
 "metadata": {
  "kernelspec": {
   "display_name": "Python 3 (ipykernel)",
   "language": "python",
   "name": "python3"
  },
  "language_info": {
   "codemirror_mode": {
    "name": "ipython",
    "version": 3
   },
   "file_extension": ".py",
   "mimetype": "text/x-python",
   "name": "python",
   "nbconvert_exporter": "python",
   "pygments_lexer": "ipython3",
   "version": "3.10.10"
  }
 },
 "nbformat": 4,
 "nbformat_minor": 5
}
